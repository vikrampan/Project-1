{
  "metadata": {
    "language_info": {
      "codemirror_mode": {
        "name": "python",
        "version": 3
      },
      "file_extension": ".py",
      "mimetype": "text/x-python",
      "name": "python",
      "nbconvert_exporter": "python",
      "pygments_lexer": "ipython3",
      "version": "3.8"
    },
    "kernelspec": {
      "name": "python",
      "display_name": "Python (Pyodide)",
      "language": "python"
    }
  },
  "nbformat_minor": 4,
  "nbformat": 4,
  "cells": [
    {
      "cell_type": "code",
      "source": "import pandas as pd\nimport numpy as np",
      "metadata": {
        "trusted": true
      },
      "execution_count": 2,
      "outputs": []
    },
    {
      "cell_type": "code",
      "source": "car=pd.read_csv('quikr_car.csv')",
      "metadata": {
        "trusted": true
      },
      "execution_count": 3,
      "outputs": []
    },
    {
      "cell_type": "code",
      "source": "car.head()",
      "metadata": {
        "trusted": true
      },
      "execution_count": 4,
      "outputs": [
        {
          "execution_count": 4,
          "output_type": "execute_result",
          "data": {
            "text/plain": "                                     name   company  year          Price  \\\n0    Hyundai Santro Xing XO eRLX Euro III   Hyundai  2007         80,000   \n1                 Mahindra Jeep CL550 MDI  Mahindra  2006       4,25,000   \n2              Maruti Suzuki Alto 800 Vxi    Maruti  2018  Ask For Price   \n3  Hyundai Grand i10 Magna 1.2 Kappa VTVT   Hyundai  2014       3,25,000   \n4        Ford EcoSport Titanium 1.5L TDCi      Ford  2014       5,75,000   \n\n   kms_driven fuel_type  \n0  45,000 kms    Petrol  \n1      40 kms    Diesel  \n2  22,000 kms    Petrol  \n3  28,000 kms    Petrol  \n4  36,000 kms    Diesel  ",
            "text/html": "<div>\n<style scoped>\n    .dataframe tbody tr th:only-of-type {\n        vertical-align: middle;\n    }\n\n    .dataframe tbody tr th {\n        vertical-align: top;\n    }\n\n    .dataframe thead th {\n        text-align: right;\n    }\n</style>\n<table border=\"1\" class=\"dataframe\">\n  <thead>\n    <tr style=\"text-align: right;\">\n      <th></th>\n      <th>name</th>\n      <th>company</th>\n      <th>year</th>\n      <th>Price</th>\n      <th>kms_driven</th>\n      <th>fuel_type</th>\n    </tr>\n  </thead>\n  <tbody>\n    <tr>\n      <th>0</th>\n      <td>Hyundai Santro Xing XO eRLX Euro III</td>\n      <td>Hyundai</td>\n      <td>2007</td>\n      <td>80,000</td>\n      <td>45,000 kms</td>\n      <td>Petrol</td>\n    </tr>\n    <tr>\n      <th>1</th>\n      <td>Mahindra Jeep CL550 MDI</td>\n      <td>Mahindra</td>\n      <td>2006</td>\n      <td>4,25,000</td>\n      <td>40 kms</td>\n      <td>Diesel</td>\n    </tr>\n    <tr>\n      <th>2</th>\n      <td>Maruti Suzuki Alto 800 Vxi</td>\n      <td>Maruti</td>\n      <td>2018</td>\n      <td>Ask For Price</td>\n      <td>22,000 kms</td>\n      <td>Petrol</td>\n    </tr>\n    <tr>\n      <th>3</th>\n      <td>Hyundai Grand i10 Magna 1.2 Kappa VTVT</td>\n      <td>Hyundai</td>\n      <td>2014</td>\n      <td>3,25,000</td>\n      <td>28,000 kms</td>\n      <td>Petrol</td>\n    </tr>\n    <tr>\n      <th>4</th>\n      <td>Ford EcoSport Titanium 1.5L TDCi</td>\n      <td>Ford</td>\n      <td>2014</td>\n      <td>5,75,000</td>\n      <td>36,000 kms</td>\n      <td>Diesel</td>\n    </tr>\n  </tbody>\n</table>\n</div>"
          },
          "metadata": {}
        }
      ]
    },
    {
      "cell_type": "code",
      "source": "#year should have int type value so we have to convert object into int type and we have to remove non year values\n",
      "metadata": {
        "trusted": true
      },
      "execution_count": 5,
      "outputs": []
    },
    {
      "cell_type": "code",
      "source": "car.info()",
      "metadata": {
        "trusted": true
      },
      "execution_count": 6,
      "outputs": [
        {
          "name": "stdout",
          "text": "<class 'pandas.core.frame.DataFrame'>\nRangeIndex: 892 entries, 0 to 891\nData columns (total 6 columns):\n #   Column      Non-Null Count  Dtype \n---  ------      --------------  ----- \n 0   name        892 non-null    object\n 1   company     892 non-null    object\n 2   year        892 non-null    object\n 3   Price       892 non-null    object\n 4   kms_driven  840 non-null    object\n 5   fuel_type   837 non-null    object\ndtypes: object(6)\nmemory usage: 21.0+ KB\n",
          "output_type": "stream"
        }
      ]
    },
    {
      "cell_type": "code",
      "source": "# price has \"ask for values\" which is garbage we have to remove it and commas as well and convert it to interger type\n#year should have int type value so we have to convert object into int type and we have to remove non year values",
      "metadata": {
        "trusted": true
      },
      "execution_count": 7,
      "outputs": []
    },
    {
      "cell_type": "code",
      "source": "#in name we will only take first name of the company so for \n# price has \"ask for values\" which is garbage we have to remove it and commas as well and convert it to interger type\n#year should have int type value so we have to convert object into int type and we have to remove non year values",
      "metadata": {
        "trusted": true
      },
      "execution_count": 8,
      "outputs": []
    },
    {
      "cell_type": "code",
      "source": "#we have toremove comma , kms .\n#in name we will only take first name of the company so for \n# price has \"ask for values\" which is garbage we have to remove it and commas as well and convert it to interger type\n#year should have int type value so we have to convert object into int type and we have to remove non year values",
      "metadata": {
        "trusted": true
      },
      "execution_count": 9,
      "outputs": []
    },
    {
      "cell_type": "code",
      "source": "car.fuel_type.unique()",
      "metadata": {
        "trusted": true
      },
      "execution_count": 10,
      "outputs": [
        {
          "execution_count": 10,
          "output_type": "execute_result",
          "data": {
            "text/plain": "array(['Petrol', 'Diesel', nan, 'LPG'], dtype=object)"
          },
          "metadata": {}
        }
      ]
    },
    {
      "cell_type": "code",
      "source": "#it has nan value which we have to remove\n#we have toremove comma , kms .\n#in name we will only take first name of the company so for \n# price has \"ask for values\" which is garbage we have to remove it and commas as well and convert it to interger type\n#year should have int type value so we have to convert object into int type and we have to remove non year values",
      "metadata": {
        "trusted": true
      },
      "execution_count": 11,
      "outputs": []
    },
    {
      "cell_type": "code",
      "source": "##CLEANING",
      "metadata": {
        "trusted": true
      },
      "execution_count": 12,
      "outputs": []
    },
    {
      "cell_type": "code",
      "source": "#CLEANING THE YEAR",
      "metadata": {
        "trusted": true
      },
      "execution_count": 13,
      "outputs": []
    },
    {
      "cell_type": "code",
      "source": "",
      "metadata": {
        "trusted": true
      },
      "execution_count": null,
      "outputs": []
    },
    {
      "cell_type": "code",
      "source": "car.year.str.isnumeric()",
      "metadata": {
        "trusted": true
      },
      "execution_count": 14,
      "outputs": [
        {
          "execution_count": 14,
          "output_type": "execute_result",
          "data": {
            "text/plain": "0       True\n1       True\n2       True\n3       True\n4       True\n       ...  \n887    False\n888     True\n889     True\n890     True\n891     True\nName: year, Length: 892, dtype: bool"
          },
          "metadata": {}
        }
      ]
    },
    {
      "cell_type": "code",
      "source": "car[car.year.str.isnumeric()] #We have passed it on car ",
      "metadata": {
        "trusted": true
      },
      "execution_count": 15,
      "outputs": [
        {
          "execution_count": 15,
          "output_type": "execute_result",
          "data": {
            "text/plain": "                                       name    company  year          Price  \\\n0      Hyundai Santro Xing XO eRLX Euro III    Hyundai  2007         80,000   \n1                   Mahindra Jeep CL550 MDI   Mahindra  2006       4,25,000   \n2                Maruti Suzuki Alto 800 Vxi     Maruti  2018  Ask For Price   \n3    Hyundai Grand i10 Magna 1.2 Kappa VTVT    Hyundai  2014       3,25,000   \n4          Ford EcoSport Titanium 1.5L TDCi       Ford  2014       5,75,000   \n..                                      ...        ...   ...            ...   \n886                    Toyota Corolla Altis     Toyota  2009       3,00,000   \n888                     Tata Zest XM Diesel       Tata  2018       2,60,000   \n889                      Mahindra Quanto C8   Mahindra  2013       3,90,000   \n890                Honda Amaze 1.2 E i VTEC      Honda  2014       1,80,000   \n891               Chevrolet Sail 1.2 LT ABS  Chevrolet  2014       1,60,000   \n\n       kms_driven fuel_type  \n0      45,000 kms    Petrol  \n1          40 kms    Diesel  \n2      22,000 kms    Petrol  \n3      28,000 kms    Petrol  \n4      36,000 kms    Diesel  \n..            ...       ...  \n886  1,32,000 kms    Petrol  \n888    27,000 kms    Diesel  \n889    40,000 kms    Diesel  \n890        Petrol       NaN  \n891        Petrol       NaN  \n\n[842 rows x 6 columns]",
            "text/html": "<div>\n<style scoped>\n    .dataframe tbody tr th:only-of-type {\n        vertical-align: middle;\n    }\n\n    .dataframe tbody tr th {\n        vertical-align: top;\n    }\n\n    .dataframe thead th {\n        text-align: right;\n    }\n</style>\n<table border=\"1\" class=\"dataframe\">\n  <thead>\n    <tr style=\"text-align: right;\">\n      <th></th>\n      <th>name</th>\n      <th>company</th>\n      <th>year</th>\n      <th>Price</th>\n      <th>kms_driven</th>\n      <th>fuel_type</th>\n    </tr>\n  </thead>\n  <tbody>\n    <tr>\n      <th>0</th>\n      <td>Hyundai Santro Xing XO eRLX Euro III</td>\n      <td>Hyundai</td>\n      <td>2007</td>\n      <td>80,000</td>\n      <td>45,000 kms</td>\n      <td>Petrol</td>\n    </tr>\n    <tr>\n      <th>1</th>\n      <td>Mahindra Jeep CL550 MDI</td>\n      <td>Mahindra</td>\n      <td>2006</td>\n      <td>4,25,000</td>\n      <td>40 kms</td>\n      <td>Diesel</td>\n    </tr>\n    <tr>\n      <th>2</th>\n      <td>Maruti Suzuki Alto 800 Vxi</td>\n      <td>Maruti</td>\n      <td>2018</td>\n      <td>Ask For Price</td>\n      <td>22,000 kms</td>\n      <td>Petrol</td>\n    </tr>\n    <tr>\n      <th>3</th>\n      <td>Hyundai Grand i10 Magna 1.2 Kappa VTVT</td>\n      <td>Hyundai</td>\n      <td>2014</td>\n      <td>3,25,000</td>\n      <td>28,000 kms</td>\n      <td>Petrol</td>\n    </tr>\n    <tr>\n      <th>4</th>\n      <td>Ford EcoSport Titanium 1.5L TDCi</td>\n      <td>Ford</td>\n      <td>2014</td>\n      <td>5,75,000</td>\n      <td>36,000 kms</td>\n      <td>Diesel</td>\n    </tr>\n    <tr>\n      <th>...</th>\n      <td>...</td>\n      <td>...</td>\n      <td>...</td>\n      <td>...</td>\n      <td>...</td>\n      <td>...</td>\n    </tr>\n    <tr>\n      <th>886</th>\n      <td>Toyota Corolla Altis</td>\n      <td>Toyota</td>\n      <td>2009</td>\n      <td>3,00,000</td>\n      <td>1,32,000 kms</td>\n      <td>Petrol</td>\n    </tr>\n    <tr>\n      <th>888</th>\n      <td>Tata Zest XM Diesel</td>\n      <td>Tata</td>\n      <td>2018</td>\n      <td>2,60,000</td>\n      <td>27,000 kms</td>\n      <td>Diesel</td>\n    </tr>\n    <tr>\n      <th>889</th>\n      <td>Mahindra Quanto C8</td>\n      <td>Mahindra</td>\n      <td>2013</td>\n      <td>3,90,000</td>\n      <td>40,000 kms</td>\n      <td>Diesel</td>\n    </tr>\n    <tr>\n      <th>890</th>\n      <td>Honda Amaze 1.2 E i VTEC</td>\n      <td>Honda</td>\n      <td>2014</td>\n      <td>1,80,000</td>\n      <td>Petrol</td>\n      <td>NaN</td>\n    </tr>\n    <tr>\n      <th>891</th>\n      <td>Chevrolet Sail 1.2 LT ABS</td>\n      <td>Chevrolet</td>\n      <td>2014</td>\n      <td>1,60,000</td>\n      <td>Petrol</td>\n      <td>NaN</td>\n    </tr>\n  </tbody>\n</table>\n<p>842 rows × 6 columns</p>\n</div>"
          },
          "metadata": {}
        }
      ]
    },
    {
      "cell_type": "code",
      "source": "car=car[car.year.str.isnumeric()] ",
      "metadata": {
        "trusted": true
      },
      "execution_count": 16,
      "outputs": []
    },
    {
      "cell_type": "code",
      "source": "car.info()",
      "metadata": {
        "trusted": true
      },
      "execution_count": 17,
      "outputs": [
        {
          "name": "stdout",
          "text": "<class 'pandas.core.frame.DataFrame'>\nInt64Index: 842 entries, 0 to 891\nData columns (total 6 columns):\n #   Column      Non-Null Count  Dtype \n---  ------      --------------  ----- \n 0   name        842 non-null    object\n 1   company     842 non-null    object\n 2   year        842 non-null    object\n 3   Price       842 non-null    object\n 4   kms_driven  840 non-null    object\n 5   fuel_type   837 non-null    object\ndtypes: object(6)\nmemory usage: 26.3+ KB\n",
          "output_type": "stream"
        }
      ]
    },
    {
      "cell_type": "code",
      "source": "car.year.astype(int)",
      "metadata": {
        "trusted": true
      },
      "execution_count": 18,
      "outputs": [
        {
          "execution_count": 18,
          "output_type": "execute_result",
          "data": {
            "text/plain": "0      2007\n1      2006\n2      2018\n3      2014\n4      2014\n       ... \n886    2009\n888    2018\n889    2013\n890    2014\n891    2014\nName: year, Length: 842, dtype: int32"
          },
          "metadata": {}
        }
      ]
    },
    {
      "cell_type": "code",
      "source": "car.year=car.year.astype(int)",
      "metadata": {
        "trusted": true
      },
      "execution_count": 19,
      "outputs": []
    },
    {
      "cell_type": "code",
      "source": "car.info()",
      "metadata": {
        "trusted": true
      },
      "execution_count": 20,
      "outputs": [
        {
          "name": "stdout",
          "text": "<class 'pandas.core.frame.DataFrame'>\nInt64Index: 842 entries, 0 to 891\nData columns (total 6 columns):\n #   Column      Non-Null Count  Dtype \n---  ------      --------------  ----- \n 0   name        842 non-null    object\n 1   company     842 non-null    object\n 2   year        842 non-null    int32 \n 3   Price       842 non-null    object\n 4   kms_driven  840 non-null    object\n 5   fuel_type   837 non-null    object\ndtypes: int32(1), object(5)\nmemory usage: 26.3+ KB\n",
          "output_type": "stream"
        }
      ]
    },
    {
      "cell_type": "code",
      "source": "# Price cleaning",
      "metadata": {
        "trusted": true
      },
      "execution_count": 21,
      "outputs": []
    },
    {
      "cell_type": "code",
      "source": "car=car[car.Price !=\"Ask For Price\"]",
      "metadata": {
        "trusted": true
      },
      "execution_count": 22,
      "outputs": []
    },
    {
      "cell_type": "code",
      "source": "car.Price.unique()",
      "metadata": {
        "trusted": true
      },
      "execution_count": 23,
      "outputs": [
        {
          "execution_count": 23,
          "output_type": "execute_result",
          "data": {
            "text/plain": "array(['80,000', '4,25,000', '3,25,000', '5,75,000', '1,75,000',\n       '1,90,000', '8,30,000', '2,50,000', '1,82,000', '3,15,000',\n       '4,15,000', '3,20,000', '10,00,000', '5,00,000', '3,50,000',\n       '1,60,000', '3,10,000', '75,000', '1,00,000', '2,90,000', '95,000',\n       '1,80,000', '3,85,000', '1,05,000', '6,50,000', '6,89,999',\n       '4,48,000', '5,49,000', '5,01,000', '4,89,999', '2,80,000',\n       '3,49,999', '2,84,999', '3,45,000', '4,99,999', '2,35,000',\n       '2,49,999', '14,75,000', '3,95,000', '2,20,000', '1,70,000',\n       '85,000', '2,00,000', '5,70,000', '1,10,000', '4,48,999',\n       '18,91,111', '1,59,500', '3,44,999', '4,49,999', '8,65,000',\n       '6,99,000', '3,75,000', '2,24,999', '12,00,000', '1,95,000',\n       '3,51,000', '2,40,000', '90,000', '1,55,000', '6,00,000',\n       '1,89,500', '2,10,000', '3,90,000', '1,35,000', '16,00,000',\n       '7,01,000', '2,65,000', '5,25,000', '3,72,000', '6,35,000',\n       '5,50,000', '4,85,000', '3,29,500', '2,51,111', '5,69,999',\n       '69,999', '2,99,999', '3,99,999', '4,50,000', '2,70,000',\n       '1,58,400', '1,79,000', '1,25,000', '2,99,000', '1,50,000',\n       '2,75,000', '2,85,000', '3,40,000', '70,000', '2,89,999',\n       '8,49,999', '7,49,999', '2,74,999', '9,84,999', '5,99,999',\n       '2,44,999', '4,74,999', '2,45,000', '1,69,500', '3,70,000',\n       '1,68,000', '1,45,000', '98,500', '2,09,000', '1,85,000',\n       '9,00,000', '6,99,999', '1,99,999', '5,44,999', '1,99,000',\n       '5,40,000', '49,000', '7,00,000', '55,000', '8,95,000', '3,55,000',\n       '5,65,000', '3,65,000', '40,000', '4,00,000', '3,30,000',\n       '5,80,000', '3,79,000', '2,19,000', '5,19,000', '7,30,000',\n       '20,00,000', '21,00,000', '14,00,000', '3,11,000', '8,55,000',\n       '5,35,000', '1,78,000', '3,00,000', '2,55,000', '5,49,999',\n       '3,80,000', '57,000', '4,10,000', '2,25,000', '1,20,000', '59,000',\n       '5,99,000', '6,75,000', '72,500', '6,10,000', '2,30,000',\n       '5,20,000', '5,24,999', '4,24,999', '6,44,999', '5,84,999',\n       '7,99,999', '4,44,999', '6,49,999', '9,44,999', '5,74,999',\n       '3,74,999', '1,30,000', '4,01,000', '13,50,000', '1,74,999',\n       '2,39,999', '99,999', '3,24,999', '10,74,999', '11,30,000',\n       '1,49,000', '7,70,000', '30,000', '3,35,000', '3,99,000', '65,000',\n       '1,69,999', '1,65,000', '5,60,000', '9,50,000', '7,15,000',\n       '45,000', '9,40,000', '1,55,555', '15,00,000', '4,95,000',\n       '8,00,000', '12,99,000', '5,30,000', '14,99,000', '32,000',\n       '4,05,000', '7,60,000', '7,50,000', '4,19,000', '1,40,000',\n       '15,40,000', '1,23,000', '4,98,000', '4,80,000', '4,88,000',\n       '15,25,000', '5,48,900', '7,25,000', '99,000', '52,000',\n       '28,00,000', '4,99,000', '3,81,000', '2,78,000', '6,90,000',\n       '2,60,000', '90,001', '1,15,000', '15,99,000', '1,59,000',\n       '51,999', '2,15,000', '35,000', '11,50,000', '2,69,000', '60,000',\n       '4,30,000', '85,00,003', '4,01,919', '4,90,000', '4,24,000',\n       '2,05,000', '5,49,900', '4,35,000', '1,89,700', '3,89,700',\n       '3,60,000', '2,95,000', '1,14,990', '10,65,000', '4,70,000',\n       '48,000', '1,88,000', '4,65,000', '1,79,999', '21,90,000',\n       '23,90,000', '10,75,000', '4,75,000', '10,25,000', '6,15,000',\n       '19,00,000', '14,90,000', '15,10,000', '18,50,000', '7,90,000',\n       '17,25,000', '12,25,000', '68,000', '9,70,000', '31,00,000',\n       '8,99,000', '88,000', '53,000', '5,68,500', '71,000', '5,90,000',\n       '7,95,000', '42,000', '1,89,000', '1,62,000', '35,999',\n       '29,00,000', '39,999', '50,500', '5,10,000', '8,60,000',\n       '5,00,001'], dtype=object)"
          },
          "metadata": {}
        }
      ]
    },
    {
      "cell_type": "code",
      "source": "car.Price=car.Price.str.replace(',' , '').astype(int)",
      "metadata": {
        "trusted": true
      },
      "execution_count": 24,
      "outputs": []
    },
    {
      "cell_type": "code",
      "source": "car.info()",
      "metadata": {
        "trusted": true
      },
      "execution_count": 25,
      "outputs": [
        {
          "name": "stdout",
          "text": "<class 'pandas.core.frame.DataFrame'>\nInt64Index: 819 entries, 0 to 891\nData columns (total 6 columns):\n #   Column      Non-Null Count  Dtype \n---  ------      --------------  ----- \n 0   name        819 non-null    object\n 1   company     819 non-null    object\n 2   year        819 non-null    int32 \n 3   Price       819 non-null    int32 \n 4   kms_driven  819 non-null    object\n 5   fuel_type   816 non-null    object\ndtypes: int32(2), object(4)\nmemory usage: 25.6+ KB\n",
          "output_type": "stream"
        }
      ]
    },
    {
      "cell_type": "code",
      "source": "# CLEANING KMS DRIVEN",
      "metadata": {
        "trusted": true
      },
      "execution_count": 26,
      "outputs": []
    },
    {
      "cell_type": "code",
      "source": "car.kms_driven.unique()",
      "metadata": {
        "trusted": true
      },
      "execution_count": 27,
      "outputs": [
        {
          "execution_count": 27,
          "output_type": "execute_result",
          "data": {
            "text/plain": "array(['45,000 kms', '40 kms', '28,000 kms', '36,000 kms', '41,000 kms',\n       '25,000 kms', '24,530 kms', '60,000 kms', '30,000 kms',\n       '32,000 kms', '48,660 kms', '4,000 kms', '16,934 kms',\n       '43,000 kms', '35,550 kms', '39,522 kms', '39,000 kms',\n       '55,000 kms', '72,000 kms', '15,975 kms', '70,000 kms',\n       '23,452 kms', '35,522 kms', '48,508 kms', '15,487 kms',\n       '82,000 kms', '20,000 kms', '68,000 kms', '38,000 kms',\n       '27,000 kms', '33,000 kms', '46,000 kms', '16,000 kms',\n       '47,000 kms', '35,000 kms', '30,874 kms', '15,000 kms',\n       '29,685 kms', '1,30,000 kms', '19,000 kms', '54,000 kms',\n       '13,000 kms', '38,200 kms', '22,000 kms', '50,000 kms',\n       '13,500 kms', '3,600 kms', '45,863 kms', '60,500 kms',\n       '12,500 kms', '18,000 kms', '13,349 kms', '29,000 kms',\n       '44,000 kms', '42,000 kms', '14,000 kms', '49,000 kms',\n       '36,200 kms', '51,000 kms', '1,04,000 kms', '33,333 kms',\n       '33,600 kms', '5,600 kms', '7,500 kms', '26,000 kms', '24,330 kms',\n       '65,480 kms', '2,00,000 kms', '59,000 kms', '99,000 kms',\n       '2,800 kms', '21,000 kms', '11,000 kms', '66,000 kms', '3,000 kms',\n       '7,000 kms', '38,500 kms', '37,200 kms', '43,200 kms',\n       '24,800 kms', '45,872 kms', '40,000 kms', '11,400 kms',\n       '97,200 kms', '52,000 kms', '31,000 kms', '1,75,430 kms',\n       '37,000 kms', '65,000 kms', '3,350 kms', '75,000 kms',\n       '62,000 kms', '73,000 kms', '2,200 kms', '54,870 kms',\n       '34,580 kms', '97,000 kms', '60 kms', '80,200 kms', '3,200 kms',\n       '0,000 kms', '5,000 kms', '588 kms', '71,200 kms', '1,75,400 kms',\n       '9,300 kms', '56,758 kms', '10,000 kms', '56,450 kms',\n       '56,000 kms', '32,700 kms', '9,000 kms', '73 kms', '1,60,000 kms',\n       '58,559 kms', '57,000 kms', '1,70,000 kms', '80,000 kms',\n       '6,821 kms', '23,000 kms', '34,000 kms', '1,800 kms',\n       '4,00,000 kms', '48,000 kms', '90,000 kms', '12,000 kms',\n       '69,900 kms', '1,66,000 kms', '122 kms', '0 kms', '36,469 kms',\n       '7,800 kms', '24,695 kms', '15,141 kms', '59,910 kms',\n       '1,00,000 kms', '4,500 kms', '1,29,000 kms', '300 kms',\n       '1,31,000 kms', '1,11,111 kms', '59,466 kms', '25,500 kms',\n       '44,005 kms', '2,110 kms', '43,222 kms', '1,00,200 kms', '65 kms',\n       '1,40,000 kms', '1,03,553 kms', '58,000 kms', '1,20,000 kms',\n       '49,800 kms', '100 kms', '81,876 kms', '6,020 kms', '55,700 kms',\n       '18,500 kms', '53,000 kms', '35,500 kms', '22,134 kms',\n       '1,000 kms', '8,500 kms', '87,000 kms', '6,000 kms', '8,000 kms',\n       '55,800 kms', '56,400 kms', '72,160 kms', '11,500 kms',\n       '1,33,000 kms', '2,000 kms', '88,000 kms', '65,422 kms',\n       '1,17,000 kms', '1,50,000 kms', '10,750 kms', '6,800 kms',\n       '9,800 kms', '57,923 kms', '30,201 kms', '6,200 kms', '37,518 kms',\n       '24,652 kms', '383 kms', '95,000 kms', '3,528 kms', '52,500 kms',\n       '47,900 kms', '52,800 kms', '1,95,000 kms', '48,008 kms',\n       '48,247 kms', '9,400 kms', '64,000 kms', '2,137 kms', '10,544 kms',\n       '1,47,000 kms', '90,001 kms', '48,006 kms', '74,000 kms',\n       '85,000 kms', '29,500 kms', '39,700 kms', '67,000 kms',\n       '19,336 kms', '60,105 kms', '45,933 kms', '1,02,563 kms',\n       '28,600 kms', '41,800 kms', '1,16,000 kms', '42,590 kms',\n       '7,400 kms', '54,500 kms', '76,000 kms', '00 kms', '11,523 kms',\n       '38,600 kms', '95,500 kms', '37,458 kms', '85,960 kms',\n       '12,516 kms', '30,600 kms', '2,550 kms', '62,500 kms',\n       '69,000 kms', '28,400 kms', '68,485 kms', '3,500 kms',\n       '85,455 kms', '63,000 kms', '1,600 kms', '77,000 kms',\n       '26,500 kms', '2,875 kms', '13,900 kms', '1,500 kms', '2,450 kms',\n       '1,625 kms', '33,400 kms', '60,123 kms', '1,37,495 kms',\n       '91,200 kms', '1,46,000 kms', '1,00,800 kms', '2,100 kms',\n       '2,500 kms', '1,32,000 kms', 'Petrol'], dtype=object)"
          },
          "metadata": {}
        }
      ]
    },
    {
      "cell_type": "code",
      "source": "car.kms_driven=car.kms_driven.str.split(' ').str.get(0).str.replace(',' , '')",
      "metadata": {
        "trusted": true
      },
      "execution_count": 28,
      "outputs": []
    },
    {
      "cell_type": "code",
      "source": "car.kms_driven.unique()",
      "metadata": {
        "trusted": true
      },
      "execution_count": 29,
      "outputs": [
        {
          "execution_count": 29,
          "output_type": "execute_result",
          "data": {
            "text/plain": "array(['45000', '40', '28000', '36000', '41000', '25000', '24530',\n       '60000', '30000', '32000', '48660', '4000', '16934', '43000',\n       '35550', '39522', '39000', '55000', '72000', '15975', '70000',\n       '23452', '35522', '48508', '15487', '82000', '20000', '68000',\n       '38000', '27000', '33000', '46000', '16000', '47000', '35000',\n       '30874', '15000', '29685', '130000', '19000', '54000', '13000',\n       '38200', '22000', '50000', '13500', '3600', '45863', '60500',\n       '12500', '18000', '13349', '29000', '44000', '42000', '14000',\n       '49000', '36200', '51000', '104000', '33333', '33600', '5600',\n       '7500', '26000', '24330', '65480', '200000', '59000', '99000',\n       '2800', '21000', '11000', '66000', '3000', '7000', '38500',\n       '37200', '43200', '24800', '45872', '40000', '11400', '97200',\n       '52000', '31000', '175430', '37000', '65000', '3350', '75000',\n       '62000', '73000', '2200', '54870', '34580', '97000', '60', '80200',\n       '3200', '0000', '5000', '588', '71200', '175400', '9300', '56758',\n       '10000', '56450', '56000', '32700', '9000', '73', '160000',\n       '58559', '57000', '170000', '80000', '6821', '23000', '34000',\n       '1800', '400000', '48000', '90000', '12000', '69900', '166000',\n       '122', '0', '36469', '7800', '24695', '15141', '59910', '100000',\n       '4500', '129000', '300', '131000', '111111', '59466', '25500',\n       '44005', '2110', '43222', '100200', '65', '140000', '103553',\n       '58000', '120000', '49800', '100', '81876', '6020', '55700',\n       '18500', '53000', '35500', '22134', '1000', '8500', '87000',\n       '6000', '8000', '55800', '56400', '72160', '11500', '133000',\n       '2000', '88000', '65422', '117000', '150000', '10750', '6800',\n       '9800', '57923', '30201', '6200', '37518', '24652', '383', '95000',\n       '3528', '52500', '47900', '52800', '195000', '48008', '48247',\n       '9400', '64000', '2137', '10544', '147000', '90001', '48006',\n       '74000', '85000', '29500', '39700', '67000', '19336', '60105',\n       '45933', '102563', '28600', '41800', '116000', '42590', '7400',\n       '54500', '76000', '00', '11523', '38600', '95500', '37458',\n       '85960', '12516', '30600', '2550', '62500', '69000', '28400',\n       '68485', '3500', '85455', '63000', '1600', '77000', '26500',\n       '2875', '13900', '1500', '2450', '1625', '33400', '60123',\n       '137495', '91200', '146000', '100800', '2100', '2500', '132000',\n       'Petrol'], dtype=object)"
          },
          "metadata": {}
        }
      ]
    },
    {
      "cell_type": "code",
      "source": "car=car[car.kms_driven.str.isnumeric()]",
      "metadata": {
        "trusted": true
      },
      "execution_count": 30,
      "outputs": []
    },
    {
      "cell_type": "code",
      "source": "car.info()",
      "metadata": {
        "trusted": true
      },
      "execution_count": 31,
      "outputs": [
        {
          "name": "stdout",
          "text": "<class 'pandas.core.frame.DataFrame'>\nInt64Index: 817 entries, 0 to 889\nData columns (total 6 columns):\n #   Column      Non-Null Count  Dtype \n---  ------      --------------  ----- \n 0   name        817 non-null    object\n 1   company     817 non-null    object\n 2   year        817 non-null    int32 \n 3   Price       817 non-null    int32 \n 4   kms_driven  817 non-null    object\n 5   fuel_type   816 non-null    object\ndtypes: int32(2), object(4)\nmemory usage: 25.5+ KB\n",
          "output_type": "stream"
        }
      ]
    },
    {
      "cell_type": "code",
      "source": "car.kms_driven=car.kms_driven.astype(int)",
      "metadata": {
        "trusted": true
      },
      "execution_count": 32,
      "outputs": []
    },
    {
      "cell_type": "code",
      "source": "car.info()\n",
      "metadata": {
        "trusted": true
      },
      "execution_count": 33,
      "outputs": [
        {
          "name": "stdout",
          "text": "<class 'pandas.core.frame.DataFrame'>\nInt64Index: 817 entries, 0 to 889\nData columns (total 6 columns):\n #   Column      Non-Null Count  Dtype \n---  ------      --------------  ----- \n 0   name        817 non-null    object\n 1   company     817 non-null    object\n 2   year        817 non-null    int32 \n 3   Price       817 non-null    int32 \n 4   kms_driven  817 non-null    int32 \n 5   fuel_type   816 non-null    object\ndtypes: int32(3), object(3)\nmemory usage: 25.5+ KB\n",
          "output_type": "stream"
        }
      ]
    },
    {
      "cell_type": "code",
      "source": "#cleaning fuel type",
      "metadata": {
        "trusted": true
      },
      "execution_count": 34,
      "outputs": []
    },
    {
      "cell_type": "code",
      "source": "car.fuel_type.unique()",
      "metadata": {
        "trusted": true
      },
      "execution_count": 35,
      "outputs": [
        {
          "execution_count": 35,
          "output_type": "execute_result",
          "data": {
            "text/plain": "array(['Petrol', 'Diesel', nan, 'LPG'], dtype=object)"
          },
          "metadata": {}
        }
      ]
    },
    {
      "cell_type": "code",
      "source": "car=car[~car.fuel_type.isna()]",
      "metadata": {
        "trusted": true
      },
      "execution_count": 36,
      "outputs": []
    },
    {
      "cell_type": "code",
      "source": "# keeping the first three words of the company name",
      "metadata": {
        "trusted": true
      },
      "execution_count": 37,
      "outputs": []
    },
    {
      "cell_type": "code",
      "source": "car.name=car.name.str.split(' ').str.slice(0,3).str.join(' ')",
      "metadata": {
        "trusted": true
      },
      "execution_count": 38,
      "outputs": []
    },
    {
      "cell_type": "code",
      "source": "car=car.reset_index(drop=True)",
      "metadata": {
        "trusted": true
      },
      "execution_count": 39,
      "outputs": []
    },
    {
      "cell_type": "code",
      "source": "car",
      "metadata": {
        "trusted": true
      },
      "execution_count": 40,
      "outputs": [
        {
          "execution_count": 40,
          "output_type": "execute_result",
          "data": {
            "text/plain": "                       name   company  year   Price  kms_driven fuel_type\n0       Hyundai Santro Xing   Hyundai  2007   80000       45000    Petrol\n1       Mahindra Jeep CL550  Mahindra  2006  425000          40    Diesel\n2         Hyundai Grand i10   Hyundai  2014  325000       28000    Petrol\n3    Ford EcoSport Titanium      Ford  2014  575000       36000    Diesel\n4                 Ford Figo      Ford  2012  175000       41000    Diesel\n..                      ...       ...   ...     ...         ...       ...\n811      Maruti Suzuki Ritz    Maruti  2011  270000       50000    Petrol\n812          Tata Indica V2      Tata  2009  110000       30000    Diesel\n813    Toyota Corolla Altis    Toyota  2009  300000      132000    Petrol\n814            Tata Zest XM      Tata  2018  260000       27000    Diesel\n815      Mahindra Quanto C8  Mahindra  2013  390000       40000    Diesel\n\n[816 rows x 6 columns]",
            "text/html": "<div>\n<style scoped>\n    .dataframe tbody tr th:only-of-type {\n        vertical-align: middle;\n    }\n\n    .dataframe tbody tr th {\n        vertical-align: top;\n    }\n\n    .dataframe thead th {\n        text-align: right;\n    }\n</style>\n<table border=\"1\" class=\"dataframe\">\n  <thead>\n    <tr style=\"text-align: right;\">\n      <th></th>\n      <th>name</th>\n      <th>company</th>\n      <th>year</th>\n      <th>Price</th>\n      <th>kms_driven</th>\n      <th>fuel_type</th>\n    </tr>\n  </thead>\n  <tbody>\n    <tr>\n      <th>0</th>\n      <td>Hyundai Santro Xing</td>\n      <td>Hyundai</td>\n      <td>2007</td>\n      <td>80000</td>\n      <td>45000</td>\n      <td>Petrol</td>\n    </tr>\n    <tr>\n      <th>1</th>\n      <td>Mahindra Jeep CL550</td>\n      <td>Mahindra</td>\n      <td>2006</td>\n      <td>425000</td>\n      <td>40</td>\n      <td>Diesel</td>\n    </tr>\n    <tr>\n      <th>2</th>\n      <td>Hyundai Grand i10</td>\n      <td>Hyundai</td>\n      <td>2014</td>\n      <td>325000</td>\n      <td>28000</td>\n      <td>Petrol</td>\n    </tr>\n    <tr>\n      <th>3</th>\n      <td>Ford EcoSport Titanium</td>\n      <td>Ford</td>\n      <td>2014</td>\n      <td>575000</td>\n      <td>36000</td>\n      <td>Diesel</td>\n    </tr>\n    <tr>\n      <th>4</th>\n      <td>Ford Figo</td>\n      <td>Ford</td>\n      <td>2012</td>\n      <td>175000</td>\n      <td>41000</td>\n      <td>Diesel</td>\n    </tr>\n    <tr>\n      <th>...</th>\n      <td>...</td>\n      <td>...</td>\n      <td>...</td>\n      <td>...</td>\n      <td>...</td>\n      <td>...</td>\n    </tr>\n    <tr>\n      <th>811</th>\n      <td>Maruti Suzuki Ritz</td>\n      <td>Maruti</td>\n      <td>2011</td>\n      <td>270000</td>\n      <td>50000</td>\n      <td>Petrol</td>\n    </tr>\n    <tr>\n      <th>812</th>\n      <td>Tata Indica V2</td>\n      <td>Tata</td>\n      <td>2009</td>\n      <td>110000</td>\n      <td>30000</td>\n      <td>Diesel</td>\n    </tr>\n    <tr>\n      <th>813</th>\n      <td>Toyota Corolla Altis</td>\n      <td>Toyota</td>\n      <td>2009</td>\n      <td>300000</td>\n      <td>132000</td>\n      <td>Petrol</td>\n    </tr>\n    <tr>\n      <th>814</th>\n      <td>Tata Zest XM</td>\n      <td>Tata</td>\n      <td>2018</td>\n      <td>260000</td>\n      <td>27000</td>\n      <td>Diesel</td>\n    </tr>\n    <tr>\n      <th>815</th>\n      <td>Mahindra Quanto C8</td>\n      <td>Mahindra</td>\n      <td>2013</td>\n      <td>390000</td>\n      <td>40000</td>\n      <td>Diesel</td>\n    </tr>\n  </tbody>\n</table>\n<p>816 rows × 6 columns</p>\n</div>"
          },
          "metadata": {}
        }
      ]
    },
    {
      "cell_type": "code",
      "source": "car=car[car.Price<6e6].reset_index(drop=True)",
      "metadata": {
        "trusted": true
      },
      "execution_count": 41,
      "outputs": []
    },
    {
      "cell_type": "code",
      "source": "car",
      "metadata": {
        "trusted": true
      },
      "execution_count": 42,
      "outputs": [
        {
          "execution_count": 42,
          "output_type": "execute_result",
          "data": {
            "text/plain": "                       name   company  year   Price  kms_driven fuel_type\n0       Hyundai Santro Xing   Hyundai  2007   80000       45000    Petrol\n1       Mahindra Jeep CL550  Mahindra  2006  425000          40    Diesel\n2         Hyundai Grand i10   Hyundai  2014  325000       28000    Petrol\n3    Ford EcoSport Titanium      Ford  2014  575000       36000    Diesel\n4                 Ford Figo      Ford  2012  175000       41000    Diesel\n..                      ...       ...   ...     ...         ...       ...\n810      Maruti Suzuki Ritz    Maruti  2011  270000       50000    Petrol\n811          Tata Indica V2      Tata  2009  110000       30000    Diesel\n812    Toyota Corolla Altis    Toyota  2009  300000      132000    Petrol\n813            Tata Zest XM      Tata  2018  260000       27000    Diesel\n814      Mahindra Quanto C8  Mahindra  2013  390000       40000    Diesel\n\n[815 rows x 6 columns]",
            "text/html": "<div>\n<style scoped>\n    .dataframe tbody tr th:only-of-type {\n        vertical-align: middle;\n    }\n\n    .dataframe tbody tr th {\n        vertical-align: top;\n    }\n\n    .dataframe thead th {\n        text-align: right;\n    }\n</style>\n<table border=\"1\" class=\"dataframe\">\n  <thead>\n    <tr style=\"text-align: right;\">\n      <th></th>\n      <th>name</th>\n      <th>company</th>\n      <th>year</th>\n      <th>Price</th>\n      <th>kms_driven</th>\n      <th>fuel_type</th>\n    </tr>\n  </thead>\n  <tbody>\n    <tr>\n      <th>0</th>\n      <td>Hyundai Santro Xing</td>\n      <td>Hyundai</td>\n      <td>2007</td>\n      <td>80000</td>\n      <td>45000</td>\n      <td>Petrol</td>\n    </tr>\n    <tr>\n      <th>1</th>\n      <td>Mahindra Jeep CL550</td>\n      <td>Mahindra</td>\n      <td>2006</td>\n      <td>425000</td>\n      <td>40</td>\n      <td>Diesel</td>\n    </tr>\n    <tr>\n      <th>2</th>\n      <td>Hyundai Grand i10</td>\n      <td>Hyundai</td>\n      <td>2014</td>\n      <td>325000</td>\n      <td>28000</td>\n      <td>Petrol</td>\n    </tr>\n    <tr>\n      <th>3</th>\n      <td>Ford EcoSport Titanium</td>\n      <td>Ford</td>\n      <td>2014</td>\n      <td>575000</td>\n      <td>36000</td>\n      <td>Diesel</td>\n    </tr>\n    <tr>\n      <th>4</th>\n      <td>Ford Figo</td>\n      <td>Ford</td>\n      <td>2012</td>\n      <td>175000</td>\n      <td>41000</td>\n      <td>Diesel</td>\n    </tr>\n    <tr>\n      <th>...</th>\n      <td>...</td>\n      <td>...</td>\n      <td>...</td>\n      <td>...</td>\n      <td>...</td>\n      <td>...</td>\n    </tr>\n    <tr>\n      <th>810</th>\n      <td>Maruti Suzuki Ritz</td>\n      <td>Maruti</td>\n      <td>2011</td>\n      <td>270000</td>\n      <td>50000</td>\n      <td>Petrol</td>\n    </tr>\n    <tr>\n      <th>811</th>\n      <td>Tata Indica V2</td>\n      <td>Tata</td>\n      <td>2009</td>\n      <td>110000</td>\n      <td>30000</td>\n      <td>Diesel</td>\n    </tr>\n    <tr>\n      <th>812</th>\n      <td>Toyota Corolla Altis</td>\n      <td>Toyota</td>\n      <td>2009</td>\n      <td>300000</td>\n      <td>132000</td>\n      <td>Petrol</td>\n    </tr>\n    <tr>\n      <th>813</th>\n      <td>Tata Zest XM</td>\n      <td>Tata</td>\n      <td>2018</td>\n      <td>260000</td>\n      <td>27000</td>\n      <td>Diesel</td>\n    </tr>\n    <tr>\n      <th>814</th>\n      <td>Mahindra Quanto C8</td>\n      <td>Mahindra</td>\n      <td>2013</td>\n      <td>390000</td>\n      <td>40000</td>\n      <td>Diesel</td>\n    </tr>\n  </tbody>\n</table>\n<p>815 rows × 6 columns</p>\n</div>"
          },
          "metadata": {}
        }
      ]
    },
    {
      "cell_type": "code",
      "source": "car.to_csv('cleaned_car.csv')",
      "metadata": {
        "trusted": true
      },
      "execution_count": 43,
      "outputs": []
    },
    {
      "cell_type": "code",
      "source": "\n\ncar\n",
      "metadata": {
        "trusted": true
      },
      "execution_count": 44,
      "outputs": [
        {
          "execution_count": 44,
          "output_type": "execute_result",
          "data": {
            "text/plain": "                       name   company  year   Price  kms_driven fuel_type\n0       Hyundai Santro Xing   Hyundai  2007   80000       45000    Petrol\n1       Mahindra Jeep CL550  Mahindra  2006  425000          40    Diesel\n2         Hyundai Grand i10   Hyundai  2014  325000       28000    Petrol\n3    Ford EcoSport Titanium      Ford  2014  575000       36000    Diesel\n4                 Ford Figo      Ford  2012  175000       41000    Diesel\n..                      ...       ...   ...     ...         ...       ...\n810      Maruti Suzuki Ritz    Maruti  2011  270000       50000    Petrol\n811          Tata Indica V2      Tata  2009  110000       30000    Diesel\n812    Toyota Corolla Altis    Toyota  2009  300000      132000    Petrol\n813            Tata Zest XM      Tata  2018  260000       27000    Diesel\n814      Mahindra Quanto C8  Mahindra  2013  390000       40000    Diesel\n\n[815 rows x 6 columns]",
            "text/html": "<div>\n<style scoped>\n    .dataframe tbody tr th:only-of-type {\n        vertical-align: middle;\n    }\n\n    .dataframe tbody tr th {\n        vertical-align: top;\n    }\n\n    .dataframe thead th {\n        text-align: right;\n    }\n</style>\n<table border=\"1\" class=\"dataframe\">\n  <thead>\n    <tr style=\"text-align: right;\">\n      <th></th>\n      <th>name</th>\n      <th>company</th>\n      <th>year</th>\n      <th>Price</th>\n      <th>kms_driven</th>\n      <th>fuel_type</th>\n    </tr>\n  </thead>\n  <tbody>\n    <tr>\n      <th>0</th>\n      <td>Hyundai Santro Xing</td>\n      <td>Hyundai</td>\n      <td>2007</td>\n      <td>80000</td>\n      <td>45000</td>\n      <td>Petrol</td>\n    </tr>\n    <tr>\n      <th>1</th>\n      <td>Mahindra Jeep CL550</td>\n      <td>Mahindra</td>\n      <td>2006</td>\n      <td>425000</td>\n      <td>40</td>\n      <td>Diesel</td>\n    </tr>\n    <tr>\n      <th>2</th>\n      <td>Hyundai Grand i10</td>\n      <td>Hyundai</td>\n      <td>2014</td>\n      <td>325000</td>\n      <td>28000</td>\n      <td>Petrol</td>\n    </tr>\n    <tr>\n      <th>3</th>\n      <td>Ford EcoSport Titanium</td>\n      <td>Ford</td>\n      <td>2014</td>\n      <td>575000</td>\n      <td>36000</td>\n      <td>Diesel</td>\n    </tr>\n    <tr>\n      <th>4</th>\n      <td>Ford Figo</td>\n      <td>Ford</td>\n      <td>2012</td>\n      <td>175000</td>\n      <td>41000</td>\n      <td>Diesel</td>\n    </tr>\n    <tr>\n      <th>...</th>\n      <td>...</td>\n      <td>...</td>\n      <td>...</td>\n      <td>...</td>\n      <td>...</td>\n      <td>...</td>\n    </tr>\n    <tr>\n      <th>810</th>\n      <td>Maruti Suzuki Ritz</td>\n      <td>Maruti</td>\n      <td>2011</td>\n      <td>270000</td>\n      <td>50000</td>\n      <td>Petrol</td>\n    </tr>\n    <tr>\n      <th>811</th>\n      <td>Tata Indica V2</td>\n      <td>Tata</td>\n      <td>2009</td>\n      <td>110000</td>\n      <td>30000</td>\n      <td>Diesel</td>\n    </tr>\n    <tr>\n      <th>812</th>\n      <td>Toyota Corolla Altis</td>\n      <td>Toyota</td>\n      <td>2009</td>\n      <td>300000</td>\n      <td>132000</td>\n      <td>Petrol</td>\n    </tr>\n    <tr>\n      <th>813</th>\n      <td>Tata Zest XM</td>\n      <td>Tata</td>\n      <td>2018</td>\n      <td>260000</td>\n      <td>27000</td>\n      <td>Diesel</td>\n    </tr>\n    <tr>\n      <th>814</th>\n      <td>Mahindra Quanto C8</td>\n      <td>Mahindra</td>\n      <td>2013</td>\n      <td>390000</td>\n      <td>40000</td>\n      <td>Diesel</td>\n    </tr>\n  </tbody>\n</table>\n<p>815 rows × 6 columns</p>\n</div>"
          },
          "metadata": {}
        }
      ]
    },
    {
      "cell_type": "code",
      "source": "#MODEL",
      "metadata": {
        "trusted": true
      },
      "execution_count": 45,
      "outputs": []
    },
    {
      "cell_type": "code",
      "source": "X=car.drop(columns='Price')",
      "metadata": {
        "trusted": true
      },
      "execution_count": 46,
      "outputs": []
    },
    {
      "cell_type": "code",
      "source": "y=car['Price']",
      "metadata": {
        "trusted": true
      },
      "execution_count": 47,
      "outputs": []
    },
    {
      "cell_type": "code",
      "source": "X",
      "metadata": {
        "trusted": true
      },
      "execution_count": 48,
      "outputs": [
        {
          "execution_count": 48,
          "output_type": "execute_result",
          "data": {
            "text/plain": "                       name   company  year  kms_driven fuel_type\n0       Hyundai Santro Xing   Hyundai  2007       45000    Petrol\n1       Mahindra Jeep CL550  Mahindra  2006          40    Diesel\n2         Hyundai Grand i10   Hyundai  2014       28000    Petrol\n3    Ford EcoSport Titanium      Ford  2014       36000    Diesel\n4                 Ford Figo      Ford  2012       41000    Diesel\n..                      ...       ...   ...         ...       ...\n810      Maruti Suzuki Ritz    Maruti  2011       50000    Petrol\n811          Tata Indica V2      Tata  2009       30000    Diesel\n812    Toyota Corolla Altis    Toyota  2009      132000    Petrol\n813            Tata Zest XM      Tata  2018       27000    Diesel\n814      Mahindra Quanto C8  Mahindra  2013       40000    Diesel\n\n[815 rows x 5 columns]",
            "text/html": "<div>\n<style scoped>\n    .dataframe tbody tr th:only-of-type {\n        vertical-align: middle;\n    }\n\n    .dataframe tbody tr th {\n        vertical-align: top;\n    }\n\n    .dataframe thead th {\n        text-align: right;\n    }\n</style>\n<table border=\"1\" class=\"dataframe\">\n  <thead>\n    <tr style=\"text-align: right;\">\n      <th></th>\n      <th>name</th>\n      <th>company</th>\n      <th>year</th>\n      <th>kms_driven</th>\n      <th>fuel_type</th>\n    </tr>\n  </thead>\n  <tbody>\n    <tr>\n      <th>0</th>\n      <td>Hyundai Santro Xing</td>\n      <td>Hyundai</td>\n      <td>2007</td>\n      <td>45000</td>\n      <td>Petrol</td>\n    </tr>\n    <tr>\n      <th>1</th>\n      <td>Mahindra Jeep CL550</td>\n      <td>Mahindra</td>\n      <td>2006</td>\n      <td>40</td>\n      <td>Diesel</td>\n    </tr>\n    <tr>\n      <th>2</th>\n      <td>Hyundai Grand i10</td>\n      <td>Hyundai</td>\n      <td>2014</td>\n      <td>28000</td>\n      <td>Petrol</td>\n    </tr>\n    <tr>\n      <th>3</th>\n      <td>Ford EcoSport Titanium</td>\n      <td>Ford</td>\n      <td>2014</td>\n      <td>36000</td>\n      <td>Diesel</td>\n    </tr>\n    <tr>\n      <th>4</th>\n      <td>Ford Figo</td>\n      <td>Ford</td>\n      <td>2012</td>\n      <td>41000</td>\n      <td>Diesel</td>\n    </tr>\n    <tr>\n      <th>...</th>\n      <td>...</td>\n      <td>...</td>\n      <td>...</td>\n      <td>...</td>\n      <td>...</td>\n    </tr>\n    <tr>\n      <th>810</th>\n      <td>Maruti Suzuki Ritz</td>\n      <td>Maruti</td>\n      <td>2011</td>\n      <td>50000</td>\n      <td>Petrol</td>\n    </tr>\n    <tr>\n      <th>811</th>\n      <td>Tata Indica V2</td>\n      <td>Tata</td>\n      <td>2009</td>\n      <td>30000</td>\n      <td>Diesel</td>\n    </tr>\n    <tr>\n      <th>812</th>\n      <td>Toyota Corolla Altis</td>\n      <td>Toyota</td>\n      <td>2009</td>\n      <td>132000</td>\n      <td>Petrol</td>\n    </tr>\n    <tr>\n      <th>813</th>\n      <td>Tata Zest XM</td>\n      <td>Tata</td>\n      <td>2018</td>\n      <td>27000</td>\n      <td>Diesel</td>\n    </tr>\n    <tr>\n      <th>814</th>\n      <td>Mahindra Quanto C8</td>\n      <td>Mahindra</td>\n      <td>2013</td>\n      <td>40000</td>\n      <td>Diesel</td>\n    </tr>\n  </tbody>\n</table>\n<p>815 rows × 5 columns</p>\n</div>"
          },
          "metadata": {}
        }
      ]
    },
    {
      "cell_type": "code",
      "source": "y",
      "metadata": {
        "trusted": true
      },
      "execution_count": 49,
      "outputs": [
        {
          "execution_count": 49,
          "output_type": "execute_result",
          "data": {
            "text/plain": "0       80000\n1      425000\n2      325000\n3      575000\n4      175000\n        ...  \n810    270000\n811    110000\n812    300000\n813    260000\n814    390000\nName: Price, Length: 815, dtype: int32"
          },
          "metadata": {}
        }
      ]
    },
    {
      "cell_type": "code",
      "source": "from sklearn.model_selection import train_test_split \nX_train,X_test,y_train,y_test=train_test_split(X,y, test_size=0.2)\n",
      "metadata": {
        "trusted": true
      },
      "execution_count": 50,
      "outputs": []
    },
    {
      "cell_type": "code",
      "source": "from sklearn.linear_model import LinearRegression\nfrom sklearn.metrics import r2_score\nfrom sklearn.preprocessing import OneHotEncoder\nfrom sklearn.compose import make_column_transformer\nfrom sklearn.pipeline import make_pipeline",
      "metadata": {
        "trusted": true
      },
      "execution_count": 51,
      "outputs": []
    },
    {
      "cell_type": "code",
      "source": "ohe=OneHotEncoder()\nohe.fit(X[['name','company','fuel_type']])",
      "metadata": {
        "trusted": true
      },
      "execution_count": 52,
      "outputs": [
        {
          "execution_count": 52,
          "output_type": "execute_result",
          "data": {
            "text/plain": "OneHotEncoder()",
            "text/html": "<style>#sk-container-id-1 {color: black;background-color: white;}#sk-container-id-1 pre{padding: 0;}#sk-container-id-1 div.sk-toggleable {background-color: white;}#sk-container-id-1 label.sk-toggleable__label {cursor: pointer;display: block;width: 100%;margin-bottom: 0;padding: 0.3em;box-sizing: border-box;text-align: center;}#sk-container-id-1 label.sk-toggleable__label-arrow:before {content: \"▸\";float: left;margin-right: 0.25em;color: #696969;}#sk-container-id-1 label.sk-toggleable__label-arrow:hover:before {color: black;}#sk-container-id-1 div.sk-estimator:hover label.sk-toggleable__label-arrow:before {color: black;}#sk-container-id-1 div.sk-toggleable__content {max-height: 0;max-width: 0;overflow: hidden;text-align: left;background-color: #f0f8ff;}#sk-container-id-1 div.sk-toggleable__content pre {margin: 0.2em;color: black;border-radius: 0.25em;background-color: #f0f8ff;}#sk-container-id-1 input.sk-toggleable__control:checked~div.sk-toggleable__content {max-height: 200px;max-width: 100%;overflow: auto;}#sk-container-id-1 input.sk-toggleable__control:checked~label.sk-toggleable__label-arrow:before {content: \"▾\";}#sk-container-id-1 div.sk-estimator input.sk-toggleable__control:checked~label.sk-toggleable__label {background-color: #d4ebff;}#sk-container-id-1 div.sk-label input.sk-toggleable__control:checked~label.sk-toggleable__label {background-color: #d4ebff;}#sk-container-id-1 input.sk-hidden--visually {border: 0;clip: rect(1px 1px 1px 1px);clip: rect(1px, 1px, 1px, 1px);height: 1px;margin: -1px;overflow: hidden;padding: 0;position: absolute;width: 1px;}#sk-container-id-1 div.sk-estimator {font-family: monospace;background-color: #f0f8ff;border: 1px dotted black;border-radius: 0.25em;box-sizing: border-box;margin-bottom: 0.5em;}#sk-container-id-1 div.sk-estimator:hover {background-color: #d4ebff;}#sk-container-id-1 div.sk-parallel-item::after {content: \"\";width: 100%;border-bottom: 1px solid gray;flex-grow: 1;}#sk-container-id-1 div.sk-label:hover label.sk-toggleable__label {background-color: #d4ebff;}#sk-container-id-1 div.sk-serial::before {content: \"\";position: absolute;border-left: 1px solid gray;box-sizing: border-box;top: 0;bottom: 0;left: 50%;z-index: 0;}#sk-container-id-1 div.sk-serial {display: flex;flex-direction: column;align-items: center;background-color: white;padding-right: 0.2em;padding-left: 0.2em;position: relative;}#sk-container-id-1 div.sk-item {position: relative;z-index: 1;}#sk-container-id-1 div.sk-parallel {display: flex;align-items: stretch;justify-content: center;background-color: white;position: relative;}#sk-container-id-1 div.sk-item::before, #sk-container-id-1 div.sk-parallel-item::before {content: \"\";position: absolute;border-left: 1px solid gray;box-sizing: border-box;top: 0;bottom: 0;left: 50%;z-index: -1;}#sk-container-id-1 div.sk-parallel-item {display: flex;flex-direction: column;z-index: 1;position: relative;background-color: white;}#sk-container-id-1 div.sk-parallel-item:first-child::after {align-self: flex-end;width: 50%;}#sk-container-id-1 div.sk-parallel-item:last-child::after {align-self: flex-start;width: 50%;}#sk-container-id-1 div.sk-parallel-item:only-child::after {width: 0;}#sk-container-id-1 div.sk-dashed-wrapped {border: 1px dashed gray;margin: 0 0.4em 0.5em 0.4em;box-sizing: border-box;padding-bottom: 0.4em;background-color: white;}#sk-container-id-1 div.sk-label label {font-family: monospace;font-weight: bold;display: inline-block;line-height: 1.2em;}#sk-container-id-1 div.sk-label-container {text-align: center;}#sk-container-id-1 div.sk-container {/* jupyter's `normalize.less` sets `[hidden] { display: none; }` but bootstrap.min.css set `[hidden] { display: none !important; }` so we also need the `!important` here to be able to override the default hidden behavior on the sphinx rendered scikit-learn.org. See: https://github.com/scikit-learn/scikit-learn/issues/21755 */display: inline-block !important;position: relative;}#sk-container-id-1 div.sk-text-repr-fallback {display: none;}</style><div id=\"sk-container-id-1\" class=\"sk-top-container\"><div class=\"sk-text-repr-fallback\"><pre>OneHotEncoder()</pre><b>In a Jupyter environment, please rerun this cell to show the HTML representation or trust the notebook. <br />On GitHub, the HTML representation is unable to render, please try loading this page with nbviewer.org.</b></div><div class=\"sk-container\" hidden><div class=\"sk-item\"><div class=\"sk-estimator sk-toggleable\"><input class=\"sk-toggleable__control sk-hidden--visually\" id=\"sk-estimator-id-1\" type=\"checkbox\" checked><label for=\"sk-estimator-id-1\" class=\"sk-toggleable__label sk-toggleable__label-arrow\">OneHotEncoder</label><div class=\"sk-toggleable__content\"><pre>OneHotEncoder()</pre></div></div></div></div></div>"
          },
          "metadata": {}
        }
      ]
    },
    {
      "cell_type": "code",
      "source": "column_trans=make_column_transformer((OneHotEncoder(categories=ohe.categories_),['name','company','fuel_type']),\n                                     \n                                     remainder='passthrough')\n                                      ",
      "metadata": {
        "trusted": true
      },
      "execution_count": 53,
      "outputs": []
    },
    {
      "cell_type": "code",
      "source": "lr=LinearRegression()\n",
      "metadata": {
        "trusted": true
      },
      "execution_count": 54,
      "outputs": []
    },
    {
      "cell_type": "code",
      "source": "pipe=make_pipeline(column_trans,lr)",
      "metadata": {
        "trusted": true
      },
      "execution_count": 55,
      "outputs": []
    },
    {
      "cell_type": "code",
      "source": "pipe.fit(X_train,y_train)",
      "metadata": {
        "trusted": true
      },
      "execution_count": 56,
      "outputs": [
        {
          "execution_count": 56,
          "output_type": "execute_result",
          "data": {
            "text/plain": "Pipeline(steps=[('columntransformer',\n                 ColumnTransformer(remainder='passthrough',\n                                   transformers=[('onehotencoder',\n                                                  OneHotEncoder(categories=[array(['Audi A3 Cabriolet', 'Audi A4 1.8', 'Audi A4 2.0', 'Audi A6 2.0',\n       'Audi A8', 'Audi Q3 2.0', 'Audi Q5 2.0', 'Audi Q7', 'BMW 3 Series',\n       'BMW 5 Series', 'BMW 7 Series', 'BMW X1', 'BMW X1 sDrive20d',\n       'BMW X1 xDrive20d', 'Chevrolet Beat', 'Chevrolet Beat...\n                                                                            array(['Audi', 'BMW', 'Chevrolet', 'Datsun', 'Fiat', 'Force', 'Ford',\n       'Hindustan', 'Honda', 'Hyundai', 'Jaguar', 'Jeep', 'Land',\n       'Mahindra', 'Maruti', 'Mercedes', 'Mini', 'Mitsubishi', 'Nissan',\n       'Renault', 'Skoda', 'Tata', 'Toyota', 'Volkswagen', 'Volvo'],\n      dtype=object),\n                                                                            array(['Diesel', 'LPG', 'Petrol'], dtype=object)]),\n                                                  ['name', 'company',\n                                                   'fuel_type'])])),\n                ('linearregression', LinearRegression())])",
            "text/html": "<style>#sk-container-id-2 {color: black;background-color: white;}#sk-container-id-2 pre{padding: 0;}#sk-container-id-2 div.sk-toggleable {background-color: white;}#sk-container-id-2 label.sk-toggleable__label {cursor: pointer;display: block;width: 100%;margin-bottom: 0;padding: 0.3em;box-sizing: border-box;text-align: center;}#sk-container-id-2 label.sk-toggleable__label-arrow:before {content: \"▸\";float: left;margin-right: 0.25em;color: #696969;}#sk-container-id-2 label.sk-toggleable__label-arrow:hover:before {color: black;}#sk-container-id-2 div.sk-estimator:hover label.sk-toggleable__label-arrow:before {color: black;}#sk-container-id-2 div.sk-toggleable__content {max-height: 0;max-width: 0;overflow: hidden;text-align: left;background-color: #f0f8ff;}#sk-container-id-2 div.sk-toggleable__content pre {margin: 0.2em;color: black;border-radius: 0.25em;background-color: #f0f8ff;}#sk-container-id-2 input.sk-toggleable__control:checked~div.sk-toggleable__content {max-height: 200px;max-width: 100%;overflow: auto;}#sk-container-id-2 input.sk-toggleable__control:checked~label.sk-toggleable__label-arrow:before {content: \"▾\";}#sk-container-id-2 div.sk-estimator input.sk-toggleable__control:checked~label.sk-toggleable__label {background-color: #d4ebff;}#sk-container-id-2 div.sk-label input.sk-toggleable__control:checked~label.sk-toggleable__label {background-color: #d4ebff;}#sk-container-id-2 input.sk-hidden--visually {border: 0;clip: rect(1px 1px 1px 1px);clip: rect(1px, 1px, 1px, 1px);height: 1px;margin: -1px;overflow: hidden;padding: 0;position: absolute;width: 1px;}#sk-container-id-2 div.sk-estimator {font-family: monospace;background-color: #f0f8ff;border: 1px dotted black;border-radius: 0.25em;box-sizing: border-box;margin-bottom: 0.5em;}#sk-container-id-2 div.sk-estimator:hover {background-color: #d4ebff;}#sk-container-id-2 div.sk-parallel-item::after {content: \"\";width: 100%;border-bottom: 1px solid gray;flex-grow: 1;}#sk-container-id-2 div.sk-label:hover label.sk-toggleable__label {background-color: #d4ebff;}#sk-container-id-2 div.sk-serial::before {content: \"\";position: absolute;border-left: 1px solid gray;box-sizing: border-box;top: 0;bottom: 0;left: 50%;z-index: 0;}#sk-container-id-2 div.sk-serial {display: flex;flex-direction: column;align-items: center;background-color: white;padding-right: 0.2em;padding-left: 0.2em;position: relative;}#sk-container-id-2 div.sk-item {position: relative;z-index: 1;}#sk-container-id-2 div.sk-parallel {display: flex;align-items: stretch;justify-content: center;background-color: white;position: relative;}#sk-container-id-2 div.sk-item::before, #sk-container-id-2 div.sk-parallel-item::before {content: \"\";position: absolute;border-left: 1px solid gray;box-sizing: border-box;top: 0;bottom: 0;left: 50%;z-index: -1;}#sk-container-id-2 div.sk-parallel-item {display: flex;flex-direction: column;z-index: 1;position: relative;background-color: white;}#sk-container-id-2 div.sk-parallel-item:first-child::after {align-self: flex-end;width: 50%;}#sk-container-id-2 div.sk-parallel-item:last-child::after {align-self: flex-start;width: 50%;}#sk-container-id-2 div.sk-parallel-item:only-child::after {width: 0;}#sk-container-id-2 div.sk-dashed-wrapped {border: 1px dashed gray;margin: 0 0.4em 0.5em 0.4em;box-sizing: border-box;padding-bottom: 0.4em;background-color: white;}#sk-container-id-2 div.sk-label label {font-family: monospace;font-weight: bold;display: inline-block;line-height: 1.2em;}#sk-container-id-2 div.sk-label-container {text-align: center;}#sk-container-id-2 div.sk-container {/* jupyter's `normalize.less` sets `[hidden] { display: none; }` but bootstrap.min.css set `[hidden] { display: none !important; }` so we also need the `!important` here to be able to override the default hidden behavior on the sphinx rendered scikit-learn.org. See: https://github.com/scikit-learn/scikit-learn/issues/21755 */display: inline-block !important;position: relative;}#sk-container-id-2 div.sk-text-repr-fallback {display: none;}</style><div id=\"sk-container-id-2\" class=\"sk-top-container\"><div class=\"sk-text-repr-fallback\"><pre>Pipeline(steps=[(&#x27;columntransformer&#x27;,\n                 ColumnTransformer(remainder=&#x27;passthrough&#x27;,\n                                   transformers=[(&#x27;onehotencoder&#x27;,\n                                                  OneHotEncoder(categories=[array([&#x27;Audi A3 Cabriolet&#x27;, &#x27;Audi A4 1.8&#x27;, &#x27;Audi A4 2.0&#x27;, &#x27;Audi A6 2.0&#x27;,\n       &#x27;Audi A8&#x27;, &#x27;Audi Q3 2.0&#x27;, &#x27;Audi Q5 2.0&#x27;, &#x27;Audi Q7&#x27;, &#x27;BMW 3 Series&#x27;,\n       &#x27;BMW 5 Series&#x27;, &#x27;BMW 7 Series&#x27;, &#x27;BMW X1&#x27;, &#x27;BMW X1 sDrive20d&#x27;,\n       &#x27;BMW X1 xDrive20d&#x27;, &#x27;Chevrolet Beat&#x27;, &#x27;Chevrolet Beat...\n                                                                            array([&#x27;Audi&#x27;, &#x27;BMW&#x27;, &#x27;Chevrolet&#x27;, &#x27;Datsun&#x27;, &#x27;Fiat&#x27;, &#x27;Force&#x27;, &#x27;Ford&#x27;,\n       &#x27;Hindustan&#x27;, &#x27;Honda&#x27;, &#x27;Hyundai&#x27;, &#x27;Jaguar&#x27;, &#x27;Jeep&#x27;, &#x27;Land&#x27;,\n       &#x27;Mahindra&#x27;, &#x27;Maruti&#x27;, &#x27;Mercedes&#x27;, &#x27;Mini&#x27;, &#x27;Mitsubishi&#x27;, &#x27;Nissan&#x27;,\n       &#x27;Renault&#x27;, &#x27;Skoda&#x27;, &#x27;Tata&#x27;, &#x27;Toyota&#x27;, &#x27;Volkswagen&#x27;, &#x27;Volvo&#x27;],\n      dtype=object),\n                                                                            array([&#x27;Diesel&#x27;, &#x27;LPG&#x27;, &#x27;Petrol&#x27;], dtype=object)]),\n                                                  [&#x27;name&#x27;, &#x27;company&#x27;,\n                                                   &#x27;fuel_type&#x27;])])),\n                (&#x27;linearregression&#x27;, LinearRegression())])</pre><b>In a Jupyter environment, please rerun this cell to show the HTML representation or trust the notebook. <br />On GitHub, the HTML representation is unable to render, please try loading this page with nbviewer.org.</b></div><div class=\"sk-container\" hidden><div class=\"sk-item sk-dashed-wrapped\"><div class=\"sk-label-container\"><div class=\"sk-label sk-toggleable\"><input class=\"sk-toggleable__control sk-hidden--visually\" id=\"sk-estimator-id-2\" type=\"checkbox\" ><label for=\"sk-estimator-id-2\" class=\"sk-toggleable__label sk-toggleable__label-arrow\">Pipeline</label><div class=\"sk-toggleable__content\"><pre>Pipeline(steps=[(&#x27;columntransformer&#x27;,\n                 ColumnTransformer(remainder=&#x27;passthrough&#x27;,\n                                   transformers=[(&#x27;onehotencoder&#x27;,\n                                                  OneHotEncoder(categories=[array([&#x27;Audi A3 Cabriolet&#x27;, &#x27;Audi A4 1.8&#x27;, &#x27;Audi A4 2.0&#x27;, &#x27;Audi A6 2.0&#x27;,\n       &#x27;Audi A8&#x27;, &#x27;Audi Q3 2.0&#x27;, &#x27;Audi Q5 2.0&#x27;, &#x27;Audi Q7&#x27;, &#x27;BMW 3 Series&#x27;,\n       &#x27;BMW 5 Series&#x27;, &#x27;BMW 7 Series&#x27;, &#x27;BMW X1&#x27;, &#x27;BMW X1 sDrive20d&#x27;,\n       &#x27;BMW X1 xDrive20d&#x27;, &#x27;Chevrolet Beat&#x27;, &#x27;Chevrolet Beat...\n                                                                            array([&#x27;Audi&#x27;, &#x27;BMW&#x27;, &#x27;Chevrolet&#x27;, &#x27;Datsun&#x27;, &#x27;Fiat&#x27;, &#x27;Force&#x27;, &#x27;Ford&#x27;,\n       &#x27;Hindustan&#x27;, &#x27;Honda&#x27;, &#x27;Hyundai&#x27;, &#x27;Jaguar&#x27;, &#x27;Jeep&#x27;, &#x27;Land&#x27;,\n       &#x27;Mahindra&#x27;, &#x27;Maruti&#x27;, &#x27;Mercedes&#x27;, &#x27;Mini&#x27;, &#x27;Mitsubishi&#x27;, &#x27;Nissan&#x27;,\n       &#x27;Renault&#x27;, &#x27;Skoda&#x27;, &#x27;Tata&#x27;, &#x27;Toyota&#x27;, &#x27;Volkswagen&#x27;, &#x27;Volvo&#x27;],\n      dtype=object),\n                                                                            array([&#x27;Diesel&#x27;, &#x27;LPG&#x27;, &#x27;Petrol&#x27;], dtype=object)]),\n                                                  [&#x27;name&#x27;, &#x27;company&#x27;,\n                                                   &#x27;fuel_type&#x27;])])),\n                (&#x27;linearregression&#x27;, LinearRegression())])</pre></div></div></div><div class=\"sk-serial\"><div class=\"sk-item sk-dashed-wrapped\"><div class=\"sk-label-container\"><div class=\"sk-label sk-toggleable\"><input class=\"sk-toggleable__control sk-hidden--visually\" id=\"sk-estimator-id-3\" type=\"checkbox\" ><label for=\"sk-estimator-id-3\" class=\"sk-toggleable__label sk-toggleable__label-arrow\">columntransformer: ColumnTransformer</label><div class=\"sk-toggleable__content\"><pre>ColumnTransformer(remainder=&#x27;passthrough&#x27;,\n                  transformers=[(&#x27;onehotencoder&#x27;,\n                                 OneHotEncoder(categories=[array([&#x27;Audi A3 Cabriolet&#x27;, &#x27;Audi A4 1.8&#x27;, &#x27;Audi A4 2.0&#x27;, &#x27;Audi A6 2.0&#x27;,\n       &#x27;Audi A8&#x27;, &#x27;Audi Q3 2.0&#x27;, &#x27;Audi Q5 2.0&#x27;, &#x27;Audi Q7&#x27;, &#x27;BMW 3 Series&#x27;,\n       &#x27;BMW 5 Series&#x27;, &#x27;BMW 7 Series&#x27;, &#x27;BMW X1&#x27;, &#x27;BMW X1 sDrive20d&#x27;,\n       &#x27;BMW X1 xDrive20d&#x27;, &#x27;Chevrolet Beat&#x27;, &#x27;Chevrolet Beat Diesel&#x27;,\n       &#x27;Chevrolet Beat LS&#x27;, &#x27;Chevrolet B...\n       &#x27;Volkswagen Vento Konekt&#x27;, &#x27;Volvo S80 Summum&#x27;], dtype=object),\n                                                           array([&#x27;Audi&#x27;, &#x27;BMW&#x27;, &#x27;Chevrolet&#x27;, &#x27;Datsun&#x27;, &#x27;Fiat&#x27;, &#x27;Force&#x27;, &#x27;Ford&#x27;,\n       &#x27;Hindustan&#x27;, &#x27;Honda&#x27;, &#x27;Hyundai&#x27;, &#x27;Jaguar&#x27;, &#x27;Jeep&#x27;, &#x27;Land&#x27;,\n       &#x27;Mahindra&#x27;, &#x27;Maruti&#x27;, &#x27;Mercedes&#x27;, &#x27;Mini&#x27;, &#x27;Mitsubishi&#x27;, &#x27;Nissan&#x27;,\n       &#x27;Renault&#x27;, &#x27;Skoda&#x27;, &#x27;Tata&#x27;, &#x27;Toyota&#x27;, &#x27;Volkswagen&#x27;, &#x27;Volvo&#x27;],\n      dtype=object),\n                                                           array([&#x27;Diesel&#x27;, &#x27;LPG&#x27;, &#x27;Petrol&#x27;], dtype=object)]),\n                                 [&#x27;name&#x27;, &#x27;company&#x27;, &#x27;fuel_type&#x27;])])</pre></div></div></div><div class=\"sk-parallel\"><div class=\"sk-parallel-item\"><div class=\"sk-item\"><div class=\"sk-label-container\"><div class=\"sk-label sk-toggleable\"><input class=\"sk-toggleable__control sk-hidden--visually\" id=\"sk-estimator-id-4\" type=\"checkbox\" ><label for=\"sk-estimator-id-4\" class=\"sk-toggleable__label sk-toggleable__label-arrow\">onehotencoder</label><div class=\"sk-toggleable__content\"><pre>[&#x27;name&#x27;, &#x27;company&#x27;, &#x27;fuel_type&#x27;]</pre></div></div></div><div class=\"sk-serial\"><div class=\"sk-item\"><div class=\"sk-estimator sk-toggleable\"><input class=\"sk-toggleable__control sk-hidden--visually\" id=\"sk-estimator-id-5\" type=\"checkbox\" ><label for=\"sk-estimator-id-5\" class=\"sk-toggleable__label sk-toggleable__label-arrow\">OneHotEncoder</label><div class=\"sk-toggleable__content\"><pre>OneHotEncoder(categories=[array([&#x27;Audi A3 Cabriolet&#x27;, &#x27;Audi A4 1.8&#x27;, &#x27;Audi A4 2.0&#x27;, &#x27;Audi A6 2.0&#x27;,\n       &#x27;Audi A8&#x27;, &#x27;Audi Q3 2.0&#x27;, &#x27;Audi Q5 2.0&#x27;, &#x27;Audi Q7&#x27;, &#x27;BMW 3 Series&#x27;,\n       &#x27;BMW 5 Series&#x27;, &#x27;BMW 7 Series&#x27;, &#x27;BMW X1&#x27;, &#x27;BMW X1 sDrive20d&#x27;,\n       &#x27;BMW X1 xDrive20d&#x27;, &#x27;Chevrolet Beat&#x27;, &#x27;Chevrolet Beat Diesel&#x27;,\n       &#x27;Chevrolet Beat LS&#x27;, &#x27;Chevrolet Beat LT&#x27;, &#x27;Chevrolet Beat PS&#x27;,\n       &#x27;Chevrolet Cruze LTZ&#x27;, &#x27;Chevrolet Enjoy&#x27;, &#x27;Chevrolet E...\n       &#x27;Volkswagen Vento Comfortline&#x27;, &#x27;Volkswagen Vento Highline&#x27;,\n       &#x27;Volkswagen Vento Konekt&#x27;, &#x27;Volvo S80 Summum&#x27;], dtype=object),\n                          array([&#x27;Audi&#x27;, &#x27;BMW&#x27;, &#x27;Chevrolet&#x27;, &#x27;Datsun&#x27;, &#x27;Fiat&#x27;, &#x27;Force&#x27;, &#x27;Ford&#x27;,\n       &#x27;Hindustan&#x27;, &#x27;Honda&#x27;, &#x27;Hyundai&#x27;, &#x27;Jaguar&#x27;, &#x27;Jeep&#x27;, &#x27;Land&#x27;,\n       &#x27;Mahindra&#x27;, &#x27;Maruti&#x27;, &#x27;Mercedes&#x27;, &#x27;Mini&#x27;, &#x27;Mitsubishi&#x27;, &#x27;Nissan&#x27;,\n       &#x27;Renault&#x27;, &#x27;Skoda&#x27;, &#x27;Tata&#x27;, &#x27;Toyota&#x27;, &#x27;Volkswagen&#x27;, &#x27;Volvo&#x27;],\n      dtype=object),\n                          array([&#x27;Diesel&#x27;, &#x27;LPG&#x27;, &#x27;Petrol&#x27;], dtype=object)])</pre></div></div></div></div></div></div><div class=\"sk-parallel-item\"><div class=\"sk-item\"><div class=\"sk-label-container\"><div class=\"sk-label sk-toggleable\"><input class=\"sk-toggleable__control sk-hidden--visually\" id=\"sk-estimator-id-6\" type=\"checkbox\" ><label for=\"sk-estimator-id-6\" class=\"sk-toggleable__label sk-toggleable__label-arrow\">remainder</label><div class=\"sk-toggleable__content\"><pre>[&#x27;year&#x27;, &#x27;kms_driven&#x27;]</pre></div></div></div><div class=\"sk-serial\"><div class=\"sk-item\"><div class=\"sk-estimator sk-toggleable\"><input class=\"sk-toggleable__control sk-hidden--visually\" id=\"sk-estimator-id-7\" type=\"checkbox\" ><label for=\"sk-estimator-id-7\" class=\"sk-toggleable__label sk-toggleable__label-arrow\">passthrough</label><div class=\"sk-toggleable__content\"><pre>passthrough</pre></div></div></div></div></div></div></div></div><div class=\"sk-item\"><div class=\"sk-estimator sk-toggleable\"><input class=\"sk-toggleable__control sk-hidden--visually\" id=\"sk-estimator-id-8\" type=\"checkbox\" ><label for=\"sk-estimator-id-8\" class=\"sk-toggleable__label sk-toggleable__label-arrow\">LinearRegression</label><div class=\"sk-toggleable__content\"><pre>LinearRegression()</pre></div></div></div></div></div></div></div>"
          },
          "metadata": {}
        }
      ]
    },
    {
      "cell_type": "code",
      "source": "y_pred=pipe.predict(X_test)",
      "metadata": {
        "trusted": true
      },
      "execution_count": 57,
      "outputs": []
    },
    {
      "cell_type": "code",
      "source": "r2_score(y_test,y_pred)",
      "metadata": {
        "trusted": true
      },
      "execution_count": 58,
      "outputs": [
        {
          "execution_count": 58,
          "output_type": "execute_result",
          "data": {
            "text/plain": "0.5685886069601431"
          },
          "metadata": {}
        }
      ]
    },
    {
      "cell_type": "code",
      "source": "score=[]\nfor i in range(1000):\n    X_train,X_test,y_train,y_test=train_test_split(X,y, test_size=0.2,random_state=i)\n    lr=LinearRegression()\n    pipe=make_pipeline(column_trans,lr)\n    pipe.fit(X_train,y_train)\n    y_pred=pipe.predict(X_test)\n    score.append(r2_score(y_test,y_pred))\n    \n    \n    \n",
      "metadata": {
        "trusted": true
      },
      "execution_count": 59,
      "outputs": []
    },
    {
      "cell_type": "code",
      "source": "np.argmax(score)",
      "metadata": {
        "trusted": true
      },
      "execution_count": 60,
      "outputs": [
        {
          "execution_count": 60,
          "output_type": "execute_result",
          "data": {
            "text/plain": "433"
          },
          "metadata": {}
        }
      ]
    },
    {
      "cell_type": "code",
      "source": "score[np.argmax(score)]",
      "metadata": {
        "trusted": true
      },
      "execution_count": 61,
      "outputs": [
        {
          "execution_count": 61,
          "output_type": "execute_result",
          "data": {
            "text/plain": "0.845711665769712"
          },
          "metadata": {}
        }
      ]
    },
    {
      "cell_type": "code",
      "source": "    X_train,X_test,y_train,y_test=train_test_split(X,y, test_size=0.2,random_state=np.argmax(score))\n    lr=LinearRegression()\n    pipe=make_pipeline(column_trans,lr)\n    pipe.fit(X_train,y_train)\n    y_pred=pipe.predict(X_test)\n    r2_score(y_test,y_pred)\n    ",
      "metadata": {
        "trusted": true
      },
      "execution_count": 62,
      "outputs": [
        {
          "execution_count": 62,
          "output_type": "execute_result",
          "data": {
            "text/plain": "0.845711665769712"
          },
          "metadata": {}
        }
      ]
    },
    {
      "cell_type": "code",
      "source": "import pickle",
      "metadata": {
        "trusted": true
      },
      "execution_count": 63,
      "outputs": []
    },
    {
      "cell_type": "code",
      "source": "pickle.dump(pipe,open('LinearRegression.pkl','wb'))",
      "metadata": {
        "trusted": true
      },
      "execution_count": 64,
      "outputs": []
    },
    {
      "cell_type": "code",
      "source": "pipe.predict(pd.DataFrame([['Maruti Suzuki Swift', 'Maruti',2019,100,'Petrol']], columns=['name','company','year','kms_driven','fuel_type']))",
      "metadata": {
        "trusted": true
      },
      "execution_count": 65,
      "outputs": [
        {
          "execution_count": 65,
          "output_type": "execute_result",
          "data": {
            "text/plain": "array([458870.81134147])"
          },
          "metadata": {}
        }
      ]
    },
    {
      "cell_type": "code",
      "source": "",
      "metadata": {},
      "execution_count": null,
      "outputs": []
    }
  ]
}